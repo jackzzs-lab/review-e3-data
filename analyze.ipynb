{
 "cells": [
  {
   "cell_type": "code",
   "execution_count": 3,
   "metadata": {},
   "outputs": [],
   "source": [
    "\n",
    "import json\n",
    "import random\n",
    "import numpy as np\n",
    "import pandas as pd\n",
    "import seaborn as sns\n",
    "import matplotlib.pyplot as plt\n",
    "import matplotlib.ticker as ticker\n",
    "\n",
    "# settings\n",
    "e3_csv = \"./data/e3.csv\"\n",
    "e3_class_column = \"Class\"\n",
    "e3_uniprot_column = \"Uniprot\"\n",
    "data_json_output = \"./data/e3.json\"\n",
    "summary_csv_output = \"./data/e3_summary.csv\"\n",
    "tm_domains_fasta_output = \"./data/tm_domains.fasta\"\n",
    "tm_domains_shuffle_fasta_output = \"./data/tm_domains_shuffle.fasta\""
   ]
  },
  {
   "cell_type": "code",
   "execution_count": 4,
   "metadata": {},
   "outputs": [],
   "source": [
    "# analyze data\n",
    "with open(data_json_output, 'r') as f:\n",
    "    data = json.load(f)\n",
    "if not data or not isinstance(data, list):\n",
    "    raise ValueError(f'Invalid data \"{data_json_output}\"')\n",
    "summaries = []\n",
    "e3_df = pd.read_csv(e3_csv)\n",
    "for e in data:\n",
    "    summary = {k: e.get(k) for k in ['uniprot_id', 'gene_name']}\n",
    "    subcellular_locations_lower = [s.lower() for s in e.get('subcellular_locations', list())]\n",
    "    summary['membrane'] = ', '.join(subcellular_locations_lower)\n",
    "    summary['type'] = e3_df.loc[e3_df[e3_uniprot_column] == e.get('uniprot_id'), e3_class_column].iat[0]\n",
    "    tm_num = 0\n",
    "    for f in e.get('features', list()):\n",
    "        if f['type'] == 'transmembrane region':\n",
    "            tm_num += 1\n",
    "    if tm_num:\n",
    "        summary['transmembrane_num'] = tm_num\n",
    "    else:\n",
    "        summary['transmembrane_num'] = np.nan\n",
    "    summaries.append(summary)\n",
    "summaries_df = pd.DataFrame(summaries)\n",
    "summaries_df.to_csv(summary_csv_output)"
   ]
  },
  {
   "cell_type": "code",
   "execution_count": 5,
   "metadata": {},
   "outputs": [
    {
     "data": {
      "image/png": "[encoded data removed]",
      "text/plain": [
       "<Figure size 360x360 with 1 Axes>"
      ]
     },
     "metadata": {
      "needs_background": "light"
     },
     "output_type": "display_data"
    }
   ],
   "source": [
    "# analyze count of transmembrane domains\n",
    "transmembrane_num_list = summaries_df['transmembrane_num'].to_numpy()\n",
    "transmembrane_num_list = transmembrane_num_list[~np.isnan(transmembrane_num_list)]\n",
    "g = sns.displot(transmembrane_num_list, bins=int(max(transmembrane_num_list)), binwidth=1)\n",
    "for ax in g.axes.flat:\n",
    "    ax.xaxis.set_major_locator(ticker.MultipleLocator(1))\n",
    "    ax.xaxis.set_major_formatter(ticker.ScalarFormatter())\n",
    "g.set(title='Analyze of count of transmembrane domains', xlabel='Num of transmembrane domains', ylabel='Count')\n",
    "plt.show()"
   ]
  },
  {
   "cell_type": "code",
   "execution_count": 9,
   "metadata": {},
   "outputs": [],
   "source": [
    "# generate fasta file for each transmembrane region, together with shuffled version as control\n",
    "with open(tm_domains_fasta_output, 'w+') as fasta:\n",
    "   with open(tm_domains_shuffle_fasta_output, 'w+') as fasta_shuffle:\n",
    "      for e in data:\n",
    "         gene = e['gene_name']\n",
    "         sequence = e['sequence']\n",
    "         index = 0\n",
    "         for f in e['features']:\n",
    "            if f['type'] == 'transmembrane region':\n",
    "               index += 1\n",
    "               start = int(f['location'][0])\n",
    "               end = int(f['location'][1])\n",
    "               desc = f['description'].split(';')[0]\n",
    "               seq = sequence[start-1:end]\n",
    "               fasta.write(f'>{gene}|TM {index}|{start}-{end}|{desc}\\n')\n",
    "               fasta_shuffle.write(f'>{gene}|TM {index}|{start}-{end}|{desc}|Shuffle\\n')\n",
    "               fasta.write(seq + '\\n')\n",
    "               fasta_shuffle.write(''.join(random.sample(seq,len(seq))) + '\\n')"
   ]
  },
  {
   "cell_type": "code",
   "execution_count": null,
   "metadata": {},
   "outputs": [],
   "source": []
  }
 ],
 "metadata": {
  "interpreter": {
   "hash": "242e3698532b4b703c89f01a1dad3f5eb7844f3a1c03f6fe84c5a8967a066ac4"
  },
  "kernelspec": {
   "display_name": "Python 3.7.11 64-bit ('app-e3-finder': conda)",
   "language": "python",
   "name": "python3"
  },
  "language_info": {
   "codemirror_mode": {
    "name": "ipython",
    "version": 3
   },
   "file_extension": ".py",
   "mimetype": "text/x-python",
   "name": "python",
   "nbconvert_exporter": "python",
   "pygments_lexer": "ipython3",
   "version": "3.7.11"
  },
  "orig_nbformat": 4
 },
 "nbformat": 4,
 "nbformat_minor": 2
}
